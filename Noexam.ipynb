{
  "nbformat": 4,
  "nbformat_minor": 0,
  "metadata": {
    "colab": {
      "name": "Noexam.ipynb",
      "version": "0.3.2",
      "provenance": [],
      "collapsed_sections": [],
      "include_colab_link": true
    },
    "kernelspec": {
      "name": "python2",
      "display_name": "Python 2"
    },
    "accelerator": "GPU"
  },
  "cells": [
    {
      "cell_type": "markdown",
      "metadata": {
        "id": "view-in-github",
        "colab_type": "text"
      },
      "source": [
        "<a href=\"https://colab.research.google.com/github/rahulkrishnan98/ML/blob/master/Noexam.ipynb\" target=\"_parent\"><img src=\"https://colab.research.google.com/assets/colab-badge.svg\" alt=\"Open In Colab\"/></a>"
      ]
    },
    {
      "cell_type": "code",
      "metadata": {
        "id": "HD4oqVJetKjH",
        "colab_type": "code",
        "colab": {}
      },
      "source": [
        "import numpy as np\n",
        "import pandas as pd\n",
        "import math\n",
        "import matplotlib.pyplot as plt\n",
        "from sklearn.model_selection import train_test_split\n",
        "from sklearn import preprocessing\n",
        "from sklearn.preprocessing import StandardScaler\n",
        "from sklearn.metrics import classification_report, confusion_matrix\n",
        "from sklearn.neighbors import KNeighborsClassifier"
      ],
      "execution_count": 0,
      "outputs": []
    },
    {
      "cell_type": "code",
      "metadata": {
        "id": "BpwracKf8LIC",
        "colab_type": "code",
        "colab": {
          "base_uri": "https://localhost:8080/",
          "height": 35
        },
        "outputId": "3e610266-baef-4408-daee-650016eb55ee"
      },
      "source": [
        "from google.colab import drive\n",
        "drive.mount('/content/drive/')"
      ],
      "execution_count": 2,
      "outputs": [
        {
          "output_type": "stream",
          "text": [
            "Drive already mounted at /content/drive/; to attempt to forcibly remount, call drive.mount(\"/content/drive/\", force_remount=True).\n"
          ],
          "name": "stdout"
        }
      ]
    },
    {
      "cell_type": "code",
      "metadata": {
        "id": "b3jWbSJd8Yc6",
        "colab_type": "code",
        "colab": {
          "base_uri": "https://localhost:8080/",
          "height": 35
        },
        "outputId": "26c2f347-11b6-4ebe-cf7e-4634e29ed967"
      },
      "source": [
        "%cd drive/My Drive/Colab Notebooks"
      ],
      "execution_count": 3,
      "outputs": [
        {
          "output_type": "stream",
          "text": [
            "/content/drive/My Drive/Colab Notebooks\n"
          ],
          "name": "stdout"
        }
      ]
    },
    {
      "cell_type": "code",
      "metadata": {
        "id": "6OdFHER1td_c",
        "colab_type": "code",
        "colab": {
          "base_uri": "https://localhost:8080/",
          "height": 326
        },
        "outputId": "0de2804b-89fa-409c-e48f-c6d6f4d7603c"
      },
      "source": [
        "a=np.zeros((4,2))\n",
        "print a.shape\n",
        "b=a.reshape(2,4)\n",
        "print b.shape\n",
        "\n",
        "#standard Deviation\n",
        "print np.std(a)\n",
        "print np.sqrt(a)\n",
        "\n",
        "#arange\n",
        "c=np.arange(100,200,10)\n",
        "c=c.reshape(5,2)\n",
        "print c\n",
        "\n",
        "#Accessing Columns\n",
        "d=c[:,1]\n",
        "print d\n",
        "\n",
        "#Axis\n",
        "print c.sum(axis=1)\n",
        "\n",
        "#Identity Mat\n",
        "print np.identity(3)"
      ],
      "execution_count": 4,
      "outputs": [
        {
          "output_type": "stream",
          "text": [
            "(4, 2)\n",
            "(2, 4)\n",
            "0.0\n",
            "[[0. 0.]\n",
            " [0. 0.]\n",
            " [0. 0.]\n",
            " [0. 0.]]\n",
            "[[100 110]\n",
            " [120 130]\n",
            " [140 150]\n",
            " [160 170]\n",
            " [180 190]]\n",
            "[110 130 150 170 190]\n",
            "[210 250 290 330 370]\n",
            "[[1. 0. 0.]\n",
            " [0. 1. 0.]\n",
            " [0. 0. 1.]]\n"
          ],
          "name": "stdout"
        }
      ]
    },
    {
      "cell_type": "code",
      "metadata": {
        "id": "Z-3rOCvixb7T",
        "colab_type": "code",
        "colab": {
          "base_uri": "https://localhost:8080/",
          "height": 269
        },
        "outputId": "0da81784-812c-469f-dd79-ef1dbdf80bf3"
      },
      "source": [
        "#Matplotlib\n",
        "x=np.arange(0,3*np.pi,0.2)\n",
        "y=np.sin(x)\n",
        "plt.plot(x,y)\n",
        "plt.show()"
      ],
      "execution_count": 5,
      "outputs": [
        {
          "output_type": "display_data",
          "data": {
            "image/png": "[encoded data removed]",
            "text/plain": [
              "<Figure size 432x288 with 1 Axes>"
            ]
          },
          "metadata": {
            "tags": []
          }
        }
      ]
    },
    {
      "cell_type": "markdown",
      "metadata": {
        "id": "XvrZ6zkN1mL5",
        "colab_type": "text"
      },
      "source": [
        "**KNN**"
      ]
    },
    {
      "cell_type": "code",
      "metadata": {
        "id": "3qCRtDqH6-vI",
        "colab_type": "code",
        "colab": {}
      },
      "source": [
        "#KNN\n",
        "df= pd.read_csv('diabetes.csv')\n",
        "df.head()\n",
        "X=df[['Pregnancies','Glucose','BloodPressure','SkinThickness','Insulin','BMI','DiabetesPedigreeFunction','Age']]\n",
        "y=df['Outcome']"
      ],
      "execution_count": 0,
      "outputs": []
    },
    {
      "cell_type": "code",
      "metadata": {
        "id": "5ZA4-cvL84IZ",
        "colab_type": "code",
        "colab": {}
      },
      "source": [
        "X_train, X_test, y_train, y_test = train_test_split(X, y, test_size=0.20, random_state=42)\n"
      ],
      "execution_count": 0,
      "outputs": []
    },
    {
      "cell_type": "code",
      "metadata": {
        "id": "tf6u8gVy9ysG",
        "colab_type": "code",
        "colab": {
          "base_uri": "https://localhost:8080/",
          "height": 146
        },
        "outputId": "57ebbcc4-bada-4de9-8691-ee8cb5152416"
      },
      "source": [
        "#Normalization \n",
        "#Do not fit on Testing Data, use parameters fit from Train instead\n",
        "scaler = StandardScaler()\n",
        "\n",
        "scaler.fit(X_train)\n",
        "\n",
        "X_train=scaler.transform(X_train)\n",
        "X_test=scaler.transform(X_test)\n",
        "\n"
      ],
      "execution_count": 8,
      "outputs": [
        {
          "output_type": "stream",
          "text": [
            "/usr/local/lib/python2.7/dist-packages/sklearn/preprocessing/data.py:645: DataConversionWarning: Data with input dtype int64, float64 were all converted to float64 by StandardScaler.\n",
            "  return self.partial_fit(X, y)\n",
            "/usr/local/lib/python2.7/dist-packages/ipykernel_launcher.py:5: DataConversionWarning: Data with input dtype int64, float64 were all converted to float64 by StandardScaler.\n",
            "  \"\"\"\n",
            "/usr/local/lib/python2.7/dist-packages/ipykernel_launcher.py:6: DataConversionWarning: Data with input dtype int64, float64 were all converted to float64 by StandardScaler.\n",
            "  \n"
          ],
          "name": "stderr"
        }
      ]
    },
    {
      "cell_type": "code",
      "metadata": {
        "id": "qR-8ZXwEFkaD",
        "colab_type": "code",
        "colab": {
          "base_uri": "https://localhost:8080/",
          "height": 217
        },
        "outputId": "8595d25d-25d7-4113-cc6d-a4ab097fbfce"
      },
      "source": [
        "classifier = KNeighborsClassifier(n_neighbors=5)  \n",
        "classifier.fit(X_train, y_train)\n",
        "y_pred = classifier.predict(X_test)\n",
        "print(confusion_matrix(y_test, y_pred))  \n",
        "print(classification_report(y_test, y_pred))  "
      ],
      "execution_count": 9,
      "outputs": [
        {
          "output_type": "stream",
          "text": [
            "[[79 20]\n",
            " [27 28]]\n",
            "              precision    recall  f1-score   support\n",
            "\n",
            "           0       0.75      0.80      0.77        99\n",
            "           1       0.58      0.51      0.54        55\n",
            "\n",
            "   micro avg       0.69      0.69      0.69       154\n",
            "   macro avg       0.66      0.65      0.66       154\n",
            "weighted avg       0.69      0.69      0.69       154\n",
            "\n"
          ],
          "name": "stdout"
        }
      ]
    },
    {
      "cell_type": "markdown",
      "metadata": {
        "id": "ZS6nWxjSOdwu",
        "colab_type": "text"
      },
      "source": [
        " **`Linear Regression`**"
      ]
    },
    {
      "cell_type": "code",
      "metadata": {
        "id": "AOxu8A6qEb6p",
        "colab_type": "code",
        "colab": {
          "base_uri": "https://localhost:8080/",
          "height": 198
        },
        "outputId": "4d5402e9-38e4-476e-c0a5-3d736c684ed3"
      },
      "source": [
        "df=pd.read_csv('student_scores.csv')\n",
        "df.sort_values(by=['Hours'],inplace=True)\n",
        "df.head()"
      ],
      "execution_count": 10,
      "outputs": [
        {
          "output_type": "execute_result",
          "data": {
            "text/html": [
              "<div>\n",
              "<style scoped>\n",
              "    .dataframe tbody tr th:only-of-type {\n",
              "        vertical-align: middle;\n",
              "    }\n",
              "\n",
              "    .dataframe tbody tr th {\n",
              "        vertical-align: top;\n",
              "    }\n",
              "\n",
              "    .dataframe thead th {\n",
              "        text-align: right;\n",
              "    }\n",
              "</style>\n",
              "<table border=\"1\" class=\"dataframe\">\n",
              "  <thead>\n",
              "    <tr style=\"text-align: right;\">\n",
              "      <th></th>\n",
              "      <th>Hours</th>\n",
              "      <th>Scores</th>\n",
              "    </tr>\n",
              "  </thead>\n",
              "  <tbody>\n",
              "    <tr>\n",
              "      <th>14</th>\n",
              "      <td>1.1</td>\n",
              "      <td>17</td>\n",
              "    </tr>\n",
              "    <tr>\n",
              "      <th>5</th>\n",
              "      <td>1.5</td>\n",
              "      <td>20</td>\n",
              "    </tr>\n",
              "    <tr>\n",
              "      <th>17</th>\n",
              "      <td>1.9</td>\n",
              "      <td>24</td>\n",
              "    </tr>\n",
              "    <tr>\n",
              "      <th>0</th>\n",
              "      <td>2.5</td>\n",
              "      <td>21</td>\n",
              "    </tr>\n",
              "    <tr>\n",
              "      <th>16</th>\n",
              "      <td>2.5</td>\n",
              "      <td>30</td>\n",
              "    </tr>\n",
              "  </tbody>\n",
              "</table>\n",
              "</div>"
            ],
            "text/plain": [
              "    Hours  Scores\n",
              "14    1.1      17\n",
              "5     1.5      20\n",
              "17    1.9      24\n",
              "0     2.5      21\n",
              "16    2.5      30"
            ]
          },
          "metadata": {
            "tags": []
          },
          "execution_count": 10
        }
      ]
    },
    {
      "cell_type": "code",
      "metadata": {
        "id": "G4K3QJ69O9qa",
        "colab_type": "code",
        "colab": {}
      },
      "source": [
        "def costFunc(X,y,t1,t0):\n",
        "    cost1=((t1*X+t0)-y)**2\n",
        "    return np.mean(cost1) * 0.5\n"
      ],
      "execution_count": 0,
      "outputs": []
    },
    {
      "cell_type": "code",
      "metadata": {
        "id": "7KXYK6QUPiiH",
        "colab_type": "code",
        "colab": {
          "base_uri": "https://localhost:8080/",
          "height": 35
        },
        "outputId": "09966550-d520-4d6e-deff-fa4679303a56"
      },
      "source": [
        "costFunc(df['Hours'],df['Scores'],0.5,0.5)"
      ],
      "execution_count": 12,
      "outputs": [
        {
          "output_type": "execute_result",
          "data": {
            "text/plain": [
              "1452.63515"
            ]
          },
          "metadata": {
            "tags": []
          },
          "execution_count": 12
        }
      ]
    },
    {
      "cell_type": "code",
      "metadata": {
        "id": "rjDoHGsKXqYo",
        "colab_type": "code",
        "colab": {
          "base_uri": "https://localhost:8080/",
          "height": 287
        },
        "outputId": "cab594c8-553f-4117-f8fe-4f39d1a1cceb"
      },
      "source": [
        "plt.scatter(df['Hours'],df['Scores'])"
      ],
      "execution_count": 13,
      "outputs": [
        {
          "output_type": "execute_result",
          "data": {
            "text/plain": [
              "<matplotlib.collections.PathCollection at 0x7f2ccdf7f290>"
            ]
          },
          "metadata": {
            "tags": []
          },
          "execution_count": 13
        },
        {
          "output_type": "display_data",
          "data": {
            "image/png": "[encoded data removed]",
            "text/plain": [
              "<Figure size 432x288 with 1 Axes>"
            ]
          },
          "metadata": {
            "tags": []
          }
        }
      ]
    },
    {
      "cell_type": "code",
      "metadata": {
        "id": "y4j0y13YPuT_",
        "colab_type": "code",
        "colab": {}
      },
      "source": [
        "def gradient(max_iter,X,y,t1,t0,alpha):\n",
        "    t11=[]\n",
        "    cost1=[]\n",
        "    t00=[]\n",
        "    X = X.values\n",
        "    y = y.values\n",
        "    for i in range(max_iter):\n",
        "        h = X*t1 + t0 \n",
        "        t0_n = t0 - alpha*((h-y).mean())\n",
        "        t1_n = t1 - alpha*(((h-y)*X).mean())\n",
        "        \n",
        "        t0 = t0_n\n",
        "        t1 = t1_n\n",
        "        cost1.append(costFunc(X,y,t1,t0))\n",
        "        \n",
        "        t11.append(t1)\n",
        "        t00.append(t0)\n",
        "    return t0,t1,cost1   "
      ],
      "execution_count": 0,
      "outputs": []
    },
    {
      "cell_type": "code",
      "metadata": {
        "id": "AowxszivS7ZY",
        "colab_type": "code",
        "colab": {
          "base_uri": "https://localhost:8080/",
          "height": 55
        },
        "outputId": "6089daf0-29b3-49b1-adda-ad5ff7eac93c"
      },
      "source": [
        "t0,t1,cost1=gradient(1500,df['Hours'],df['Scores'],0.5,0.5,0.001)\n",
        "print(cost1)"
      ],
      "execution_count": 15,
      "outputs": [
        {
          "output_type": "stream",
          "text": [
            "[1361.9250217108438, 1276.9362725018395, 1197.3080365888206, 1122.7022091535387, 1052.802010736323, 987.3106421771081, 925.9500243936636, 868.4596176460598, 814.5953152739264, 764.1284072092576, 716.8446088638016, 672.5431512676448, 631.0359285956839, 592.1466994623441, 555.7103385932113, 521.5721356961392, 489.587138554813, 459.61953755551525, 431.5420890337669, 405.2355749923535, 380.5882968966709, 357.4956013980286, 335.8594359711101, 315.5879325788071, 296.5950175966527, 278.8000463405758, 262.12746064616476, 246.5064680455095, 231.87074117939162, 218.15813616851506, 205.31042874796847, 193.27306704453724, 181.9949399471448, 171.4281600869153, 161.5278605053824, 152.25200414748818, 143.56120537047084, 135.4185627107621, 127.78950219881342, 120.64163055656086, 113.94459765419742, 107.66996764224008, 101.79109821171137, 96.2830274697695, 91.12236795045723, 86.28720731053303, 81.75701528873576, 77.51255653342855, 73.5358089284824, 69.80988707060996, 66.31897057323003, 63.04823689243731, 59.983798389854904, 57.11264336513516, 54.42258080773013, 51.90218863334578, 49.540765185289445, 47.32828379478335, 45.25535020730562, 43.31316269418842, 41.49347468010611, 39.78855972776834, 38.191178731140496, 36.69454917789407, 35.29231635057227, 33.978526344191636, 32.74760078570964, 31.594313148017296, 30.51376655788413, 29.501373003627528, 28.552833854221333, 27.66412160712698, 26.83146278734752, 26.051321925093106, 25.320386544027365, 24.63555309635262, 23.99391378501481, 23.3927442170745, 22.82949183581933, 22.301765082500282, 21.80732324167226, 21.344066927021657, 20.910029167283327, 20.503367054397557, 20.122353918444546, 19.765371996130995, 19.43090556169874, 19.11753449108936, 18.823928232037193, 18.548840154488317, 18.291102257356737, 18.049620209142255, 17.823368701352926, 17.6113870950016, 17.412775341692534, 17.226690161977572, 17.052341464756154, 16.88898899251515, 16.735939178164113, 16.592542200120075, 16.45818922313777, 16.332309813169402, 16.214369515277607, 16.103867584317175, 16.00033485875006, 15.903331768565586, 15.812446468847805, 15.727293091064316, 15.647510104652424, 15.572758781944964, 15.502721759918373, 15.437101692655848, 15.375619988804084, 15.318015628662565, 15.264044055882932, 15.213476139072375, 15.166097198892091, 15.121706096519699, 15.080114379605373, 15.041145482095155, 15.004633974524067, 14.970424861595566, 14.938372924065048, 14.908342102132757, 14.880204917728149, 14.853841933232582, 14.829141244342226, 14.80599800491757, 14.784313981802393, 14.763997137721551, 14.744961240486852, 14.727125496851565, 14.710414209458868, 14.69475645542766, 14.680085785211075, 14.666339940448834, 14.653460589615664, 14.641393080343175, 14.630086207363595, 14.619491995090042, 14.609565493910152, 14.60026458932817, 14.591549823144987, 14.583384225916971, 14.575733159982162, 14.568564172387294, 14.561846857091203, 14.555552725859478, 14.549655087302222, 14.544128933541296, 14.538950834025828, 14.534098836045052, 14.529552371516283, 14.525292169651856, 14.521300175134602, 14.517559471454272, 14.514054209079209, 14.510769538158657, 14.507691545469648, 14.504807195340879, 14.502104274302672, 14.499571339228146, 14.497197668745123, 14.494973217712813, 14.492888574569706, 14.490934921371677, 14.4891039963506, 14.48738805883462, 14.485779856380859, 14.484272593981267, 14.482859905210743, 14.48153582519504, 14.480294765283634, 14.479131489320098, 14.478041091409152, 14.477018975086065, 14.476060833799842, 14.475162632627432, 14.474320591141302, 14.47353116735756, 14.472791042696574, 14.472097107892136, 14.471446449789378, 14.470836338975397, 14.470264218190096, 14.469727691467932, 14.469224513964502, 14.468752582424939, 14.46830992625332, 14.467894699145504, 14.467505171249593, 14.46713972182095, 14.466796832340465, 14.4664750800668, 14.466173131995461, 14.465889739198749, 14.46562373152276, 14.465374012618941, 14.465139555288822, 14.464919397122653, 14.46471263641284, 14.464518428325336, 14.464335981312406, 14.464164553751749, 14.464003450797454, 14.463852021429707, 14.463709655690568, 14.463575782094017, 14.463449865199413, 14.46333140333801, 14.463219926482898, 14.463114994253147, 14.463016194044007, 14.462923139274999, 14.462835467748427, 14.462752840111486, 14.462674938415397, 14.462601464765354, 14.462532140055647, 14.462466702784615, 14.462404907944265, 14.462346525979978, 14.462291341815819, 14.462239153941294, 14.462189773555759, 14.462143023766792, 14.462098738839032, 14.46205676349055, 14.462016952233437, 14.461979168756143, 14.461943285344635, 14.461909182340126, 14.461876747631068, 14.46184587617703, 14.461816469562802, 14.461788435580422, 14.46176168783772, 14.461736145391502, 14.461711732403847, 14.461688377820094, 14.461666015067172, 14.461644581770907, 14.461624019491207, 14.461604273473888, 14.461585292418256, 14.461567028259227, 14.461549435963255, 14.461532473337158, 14.461516100848923, 14.46150028145989, 14.461484980467477, 14.461470165357824, 14.461455805667772, 14.461441872855495, 14.461428340179303, 14.461415182584165, 14.46140237659523, 14.461389900218236, 14.4613777328461, 14.46136585517145, 14.461354249104566, 14.461342897696676, 14.46133178506794, 14.461320896340034, 14.46131021757302, 14.461299735706078, 14.461289438502149, 14.461279314495904, 14.461269352945116, 14.46125954378504, 14.461249877585676, 14.461240345511715, 14.46123093928507, 14.461221651149708, 14.461212473838719, 14.46120340054346, 14.461194424884697, 14.461185540885458, 14.461176742945682, 14.46116802581847, 14.4611593845878, 14.461150814647613, 14.461142311682352, 14.461133871648535, 14.461125490757688, 14.461117165460196, 14.461108892430264, 14.461100668551799, 14.461092490905184, 14.461084356754872, 14.461076263537814, 14.461068208852517, 14.4610601904489, 14.46105220621875, 14.461044254186746, 14.461036332502065, 14.461028439430605, 14.461020573347511, 14.461012732730389, 14.46100491615278, 14.460997122278137, 14.460989349854115, 14.460981597707342, 14.46097386473833, 14.460966149916908, 14.460958452277815, 14.46095077091657, 14.460943104985711, 14.460935453691118, 14.460927816288729, 14.46092019208134, 14.46091258041562, 14.460904980679409, 14.460897392299072, 14.460889814737108, 14.460882247489826, 14.460874690085255, 14.46086714208111, 14.460859603062945, 14.460852072642364, 14.460844550455443, 14.460837036161106, 14.46082952943973, 14.460822029991796, 14.460814537536594, 14.460807051811058, 14.46079957256866, 14.460792099578322, 14.460784632623493, 14.460777171501217, 14.460769716021254, 14.460762266005315, 14.460754821286276, 14.460747381707488, 14.46073994712212, 14.460732517392524, 14.46072509238967, 14.460717671992608, 14.460710256087937, 14.460702844569358, 14.460695437337172, 14.460688034297943, 14.460680635364042, 14.460673240453298, 14.460665849488665, 14.460658462397872, 14.460651079113154, 14.460643699570948, 14.460636323711629, 14.46062895147927, 14.460621582821402, 14.46061421768881, 14.460606856035284, 14.460599497817503, 14.460592142994777, 14.460584791528948, 14.46057744338414, 14.460570098526743, 14.460562756925167, 14.460555418549722, 14.46054808337257, 14.460540751367539, 14.460533422510048, 14.46052609677699, 14.460518774146635, 14.460511454598604, 14.460504138113679, 14.460496824673825, 14.460489514262079, 14.460482206862462, 14.460474902459943, 14.46046760104037, 14.460460302590416, 14.460453007097533, 14.460445714549916, 14.4604384249364, 14.460431138246458, 14.460423854470212, 14.460416573598282, 14.460409295621858, 14.460402020532586, 14.460394748322576, 14.460387478984398, 14.460380212510984, 14.460372948895674, 14.460365688132155, 14.460358430214441, 14.460351175136864, 14.460343922894031, 14.460336673480844, 14.46032942689245, 14.46032218312423, 14.460314942171813, 14.460307704031004, 14.460300468697831, 14.460293236168493, 14.460286006439375, 14.460278779507016, 14.460271555368106, 14.460264334019476, 14.460257115458093, 14.460249899681067, 14.460242686685604, 14.46023547646901, 14.460228269028718, 14.460221064362251, 14.46021386246721, 14.460206663341314, 14.460199466982303, 14.460192273388056, 14.460185082556475, 14.460177894485557, 14.460170709173347, 14.460163526617924, 14.460156346817483, 14.460149169770213, 14.460141995474364, 14.460134823928252, 14.460127655130197, 14.460120489078593, 14.460113325771859, 14.460106165208444, 14.460099007386818, 14.460091852305515, 14.460084699963058, 14.46007755035804, 14.46007040348902, 14.460063259354648, 14.460056117953549, 14.46004897928437, 14.460041843345811, 14.460034710136547, 14.4600275796553, 14.460020451900803, 14.460013326871806, 14.460006204567055, 14.459999084985318, 14.459991968125388, 14.459984853986057, 14.459977742566133, 14.459970633864431, 14.45996352787977, 14.459956424610995, 14.459949324056947, 14.459942226216485, 14.459935131088443, 14.459928038671714, 14.459920948965141, 14.459913861967642, 14.45990677767807, 14.459899696095324, 14.459892617218301, 14.459885541045901, 14.459878467577042, 14.459871396810609, 14.459864328745523, 14.4598572633807, 14.459850200715074, 14.459843140747548, 14.459836083477075, 14.459829028902572, 14.459821977022976, 14.459814927837206, 14.459807881344226, 14.459800837542955, 14.459793796432347, 14.459786758011345, 14.459779722278915, 14.459772689233976, 14.459765658875517, 14.459758631202442, 14.45975160621374, 14.459744583908366, 14.459737564285279, 14.459730547343415, 14.459723533081767, 14.459716521499269, 14.459709512594914, 14.459702506367647, 14.459695502816436, 14.459688501940256, 14.45968150373807, 14.459674508208852, 14.459667515351557, 14.459660525165175, 14.45965353764867, 14.459646552801019, 14.459639570621182, 14.45963259110815, 14.459625614260892, 14.459618640078393, 14.459611668559614, 14.459604699703538, 14.459597733509158, 14.45959076997543, 14.45958380910135, 14.459576850885894, 14.459569895328043, 14.459562942426777, 14.459555992181079, 14.45954904458993, 14.45954209965232, 14.459535157367224, 14.459528217733641, 14.459521280750533, 14.459514346416904, 14.459507414731744, 14.459500485694026, 14.45949355930274, 14.459486635556878, 14.459479714455412, 14.45947279599736, 14.459465880181689, 14.459458967007397, 14.459452056473467, 14.4594451485789, 14.459438243322682, 14.459431340703807, 14.459424440721252, 14.459417543374023, 14.459410648661107, 14.459403756581516, 14.459396867134215, 14.459389980318212, 14.459383096132505, 14.459376214576084, 14.459369335647946, 14.459362459347085, 14.459355585672485, 14.459348714623168, 14.459341846198127, 14.45933498039633, 14.4593281172168, 14.45932125665854, 14.459314398720528, 14.459307543401774, 14.459300690701284, 14.459293840618047, 14.459286993151062, 14.45928014829934, 14.459273306061872, 14.459266466437667, 14.45925962942572, 14.459252795025035, 14.459245963234629, 14.459239134053483, 14.459232307480608, 14.459225483515008, 14.459218662155697, 14.459211843401652, 14.459205027251905, 14.459198213705461, 14.459191402761297, 14.459184594418454, 14.459177788675925, 14.459170985532719, 14.459164184987829, 14.45915738704028, 14.459150591689065, 14.45914379893321, 14.4591370087717, 14.459130221203566, 14.45912343622781, 14.459116653843443, 14.45910987404947, 14.4591030968449, 14.459096322228763, 14.459089550200046, 14.459082780757779, 14.459076013900962, 14.45906924962861, 14.459062487939745, 14.459055728833365, 14.459048972308493, 14.459042218364145, 14.459035466999326, 14.459028718213057, 14.45902197200436, 14.45901522837224, 14.459008487315712, 14.459001748833801, 14.458995012925532, 14.458988279589882, 14.458981548825914, 14.458974820632625, 14.458968095009041, 14.458961371954167, 14.458954651467034, 14.458947933546659, 14.45894121819205, 14.458934505402251, 14.45892779517626, 14.458921087513115, 14.458914382411818, 14.458907679871407, 14.458900979890897, 14.458894282469311, 14.45888758760567, 14.458880895298996, 14.458874205548334, 14.458867518352674, 14.458860833711062, 14.458854151622509, 14.458847472086045, 14.458840795100706, 14.458834120665506, 14.458827448779473, 14.458820779441634, 14.458814112651016, 14.45880744840665, 14.458800786707561, 14.45879412755277, 14.458787470941301, 14.458780816872205, 14.458774165344495, 14.458767516357211, 14.45876086990936, 14.458754226000007, 14.458747584628156, 14.458740945792846, 14.4587343094931, 14.45872767572795, 14.458721044496455, 14.458714415797608, 14.45870778963049, 14.458701165994068, 14.458694544887425, 14.458687926309592, 14.458681310259584, 14.458674696736448, 14.458668085739209, 14.458661477266917, 14.458654871318604, 14.45864826789329, 14.45864166699003, 14.458635068607855, 14.458628472745794, 14.458621879402903, 14.458615288578198, 14.458608700270732, 14.458602114479536, 14.45859553120365, 14.458588950442117, 14.458582372193979, 14.458575796458264, 14.458569223234026, 14.458562652520301, 14.458556084316129, 14.45854951862055, 14.45854295543261, 14.458536394751352, 14.458529836575813, 14.458523280905036, 14.458516727738072, 14.458510177073956, 14.458503628911735, 14.458497083250457, 14.458490540089167, 14.458483999426909, 14.458477461262712, 14.458470925595652, 14.458464392424753, 14.458457861749073, 14.458451333567657, 14.458444807879543, 14.458438284683785, 14.458431763979442, 14.458425245765536, 14.458418730041142, 14.458412216805302, 14.458405706057057, 14.458399197795472, 14.45839269201958, 14.458386188728438, 14.458379687921097, 14.458373189596623, 14.45836669375405, 14.458360200392429, 14.458353709510824, 14.458347221108284, 14.45834073518385, 14.458334251736588, 14.458327770765555, 14.458321292269797, 14.458314816248375, 14.458308342700336, 14.458301871624748, 14.45829540302065, 14.458288936887113, 14.45828247322318, 14.458276012027914, 14.458269553300383, 14.458263097039632, 14.458256643244722, 14.458250191914704, 14.458243743048651, 14.458237296645615, 14.458230852704649, 14.458224411224814, 14.458217972205178, 14.458211535644805, 14.45820510154274, 14.458198669898048, 14.458192240709803, 14.458185813977051, 14.458179389698872, 14.45817296787432, 14.458166548502442, 14.458160131582328, 14.45815371711302, 14.458147305093593, 14.458140895523108, 14.458134488400642, 14.45812808372525, 14.458121681495989, 14.458115281711926, 14.458108884372141, 14.458102489475685, 14.458096097021643, 14.45808970700907, 14.458083319437023, 14.458076934304593, 14.458070551610833, 14.458064171354824, 14.458057793535609, 14.4580514181523, 14.45804504520393, 14.458038674689579, 14.45803230660831, 14.458025940959221, 14.458019577741359, 14.4580132169538, 14.458006858595615, 14.458000502665877, 14.457994149163664, 14.457987798088036, 14.457981449438096, 14.457975103212881, 14.45796875941148, 14.457962418032974, 14.457956079076439, 14.457949742540926, 14.457943408425535, 14.45793707672933, 14.457930747451394, 14.4579244205908, 14.457918096146619, 14.457911774117935, 14.45790545450383, 14.457899137303373, 14.457892822515646, 14.457886510139723, 14.45788020017469, 14.457873892619626, 14.457867587473599, 14.4578612847357, 14.45785498440501, 14.457848686480602, 14.457842390961558, 14.457836097846974, 14.457829807135909, 14.457823518827459, 14.457817232920704, 14.457810949414727, 14.457804668308608, 14.45779838960143, 14.45779211329228, 14.457785839380252, 14.457779567864408, 14.457773298743858, 14.457767032017657, 14.45776076768492, 14.457754505744708, 14.457748246196138, 14.457741989038265, 14.457735734270193, 14.457729481891004, 14.45772323189979, 14.457716984295626, 14.457710739077614, 14.457704496244844, 14.457698255796391, 14.45769201773137, 14.457685782048836, 14.457679548747908, 14.457673317827668, 14.457667089287192, 14.457660863125593, 14.457654639341941, 14.457648417935346, 14.457642198904903, 14.457635982249686, 14.457629767968799, 14.457623556061327, 14.457617346526378, 14.457611139363031, 14.457604934570389, 14.457598732147547, 14.457592532093598, 14.457586334407631, 14.457580139088746, 14.45757394613605, 14.457567755548617, 14.45756156732556, 14.457555381465966, 14.45754919796895, 14.457543016833588, 14.457536838058992, 14.457530661644263, 14.457524487588485, 14.457518315890766, 14.457512146550195, 14.457505979565894, 14.457499814936943, 14.457493652662457, 14.457487492741517, 14.457481335173252, 14.457475179956743, 14.457469027091097, 14.457462876575407, 14.457456728408786, 14.457450582590331, 14.457444439119163, 14.457438297994367, 14.457432159215047, 14.457426022780314, 14.457419888689277, 14.457413756941015, 14.457407627534657, 14.457401500469318, 14.457395375744087, 14.457389253358073, 14.457383133310374, 14.457377015600109, 14.45737090022639, 14.457364787188306, 14.457358676484978, 14.457352568115516, 14.45734646207902, 14.4573403583746, 14.457334257001373, 14.457328157958449, 14.457322061244929, 14.457315966859928, 14.457309874802556, 14.457303785071911, 14.457297697667133, 14.457291612587314, 14.457285529831568, 14.457279449399012, 14.457273371288759, 14.45726729549992, 14.457261222031606, 14.45725515088293, 14.457249082053016, 14.457243015540948, 14.457236951345886, 14.457230889466928, 14.457224829903163, 14.457218772653743, 14.457212717717768, 14.45720666509435, 14.457200614782613, 14.457194566781666, 14.457188521090641, 14.457182477708638, 14.457176436634795, 14.45717039786822, 14.45716436140803, 14.457158327253342, 14.457152295403285, 14.457146265856968, 14.457140238613524, 14.457134213672061, 14.457128191031694, 14.45712217069155, 14.457116152650794, 14.457110136908481, 14.45710412346376, 14.457098112315759, 14.457092103463596, 14.457086096906401, 14.457080092643277, 14.457074090673377, 14.457068090995804, 14.457062093609688, 14.457056098514151, 14.457050105708324, 14.457044115191332, 14.457038126962305, 14.457032141020358, 14.457026157364616, 14.457020175994215, 14.457014196908284, 14.457008220105939, 14.457002245586319, 14.45699627334855, 14.45699030339176, 14.456984335715076, 14.456978370317616, 14.456972407198535, 14.456966446356939, 14.456960487791969, 14.456954531502758, 14.456948577488431, 14.45694262574812, 14.456936676280966, 14.45693072908609, 14.456924784162622, 14.456918841509696, 14.456912901126456, 14.456906963012031, 14.456901027165541, 14.45689509358614, 14.456889162272939, 14.45688323322509, 14.456877306441724, 14.456871381921971, 14.456865459664982, 14.456859539669868, 14.456853621935785, 14.456847706461861, 14.456841793247236, 14.456835882291045, 14.45682997359243, 14.45682406715052, 14.45681816296446, 14.456812261033384, 14.456806361356442, 14.456800463932758, 14.456794568761469, 14.456788675841738, 14.456782785172686, 14.456776896753453, 14.456771010583191, 14.456765126661026, 14.456759244986108, 14.456753365557589, 14.4567474883746, 14.456741613436284, 14.456735740741772, 14.45672987029023, 14.456724002080792, 14.456718136112583, 14.456712272384783, 14.456706410896507, 14.45670055164692, 14.456694694635154, 14.456688839860355, 14.456682987321667, 14.456677137018234, 14.456671288949215, 14.456665443113755, 14.456659599510994, 14.456653758140078, 14.456647919000154, 14.456642082090378, 14.456636247409893, 14.456630414957843, 14.45662458473339, 14.456618756735672, 14.45661293096385, 14.456607107417053, 14.456601286094449, 14.456595466995179, 14.456589650118412, 14.456583835463269, 14.456578023028932, 14.456572212814525, 14.456566404819222, 14.45656059904217, 14.456554795482505, 14.456548994139407, 14.456543195012015, 14.456537398099488, 14.456531603400965, 14.45652581091562, 14.456520020642602, 14.456514232581057, 14.456508446730142, 14.456502663089031, 14.456496881656863, 14.456491102432793, 14.456485325415995, 14.456479550605598, 14.45647377800078, 14.4564680076007, 14.4564622394045, 14.456456473411356, 14.456450709620414, 14.456444948030837, 14.456439188641793, 14.456433431452421, 14.456427676461894, 14.456421923669382, 14.456416173074016, 14.456410424674996, 14.45640467847145, 14.456398934462559, 14.456393192647479, 14.456387453025368, 14.456381715595384, 14.456375980356702, 14.456370247308493, 14.45636451644989, 14.456358787780092, 14.456353061298232, 14.45634733700349, 14.456341614895026, 14.456335894972018, 14.4563301772336, 14.456324461678978, 14.456318748307302, 14.456313037117722, 14.45630732810942, 14.456301621281561, 14.456295916633312, 14.456290214163849, 14.456284513872324, 14.456278815757901, 14.456273119819764, 14.456267426057083, 14.456261734469024, 14.456256045054749, 14.456250357813431, 14.456244672744244, 14.456238989846357, 14.456233309118941, 14.45622763056116, 14.4562219541722, 14.456216279951217, 14.456210607897397, 14.456204938009897, 14.456199270287902, 14.456193604730577, 14.456187941337108, 14.456182280106644, 14.456176621038392, 14.456170964131497, 14.456165309385147, 14.45615965679852, 14.456154006370785, 14.456148358101114, 14.456142711988683, 14.456137068032676, 14.456131426232277, 14.456125786586638, 14.456120149094954, 14.456114513756399, 14.45610888057015, 14.456103249535376, 14.456097620651274, 14.456091993917013, 14.456086369331768, 14.456080746894724, 14.456075126605048, 14.456069508461935, 14.456063892464567, 14.456058278612108, 14.456052666903764, 14.456047057338687, 14.45604144991607, 14.456035844635101, 14.456030241494954, 14.456024640494821, 14.456019041633876, 14.456013444911306, 14.456007850326289, 14.45600225787802, 14.455996667565664, 14.45599107938843, 14.455985493345482, 14.455979909436012, 14.455974327659199, 14.455968748014245, 14.455963170500313, 14.45595759511662, 14.455952021862322, 14.455946450736624, 14.455940881738695, 14.455935314867743, 14.455929750122941, 14.455924187503483, 14.455918627008566, 14.455913068637367, 14.45590751238908, 14.455901958262878, 14.455896406257972, 14.455890856373548, 14.455885308608782, 14.455879762962883, 14.455874219435033, 14.45586867802442, 14.455863138730233, 14.455857601551683, 14.455852066487937, 14.455846533538207, 14.455841002701675, 14.455835473977526, 14.455829947364968, 14.455824422863193, 14.455818900471392, 14.455813380188758, 14.455807862014488, 14.455802345947768, 14.455796831987806, 14.455791320133796, 14.455785810384926, 14.455780302740388, 14.455774797199394, 14.455769293761128, 14.455763792424785, 14.45575829318957, 14.45575279605469, 14.455747301019326, 14.455741808082676, 14.455736317243943, 14.455730828502329, 14.455725341857038, 14.455719857307264, 14.455714374852187, 14.455708894491032, 14.455703416222995, 14.45569794004728, 14.455692465963068, 14.455686993969582, 14.455681524066012, 14.455676056251566, 14.455670590525438, 14.455665126886847, 14.455659665334974, 14.45565420586903, 14.455648748488224, 14.45564329319176, 14.455637839978827, 14.455632388848656, 14.455626939800425, 14.45562149283335, 14.455616047946638, 14.455610605139498, 14.455605164411116, 14.455599725760724, 14.455594289187525, 14.455588854690689, 14.455583422269465, 14.455577991923047, 14.455572563650653, 14.455567137451467, 14.455561713324709, 14.455556291269593, 14.455550871285325, 14.455545453371105, 14.455540037526152, 14.455534623749674, 14.455529212040883, 14.455523802398984, 14.455518394823194, 14.455512989312716, 14.455507585866764, 14.455502184484558, 14.455496785165296, 14.455491387908193, 14.455485992712472, 14.455480599577339, 14.455475208502003, 14.455469819485682, 14.455464432527585, 14.455459047626938, 14.455453664782938, 14.455448283994821, 14.455442905261778, 14.455437528583037, 14.455432153957815, 14.455426781385324, 14.455421410864776, 14.455416042395392, 14.455410675976387, 14.45540531160699, 14.455399949286395, 14.455394589013832, 14.455389230788523, 14.455383874609677, 14.455378520476529, 14.45537316838827, 14.455367818344145, 14.455362470343362, 14.455357124385136, 14.4553517804687, 14.455346438593256, 14.455341098758042, 14.455335760962273, 14.455330425205162, 14.455325091485951, 14.455319759803844, 14.455314430158063, 14.455309102547828, 14.455303776972373, 14.455298453430915, 14.455293131922685, 14.455287812446896, 14.455282495002768, 14.455277179589535, 14.455271866206424, 14.455266554852647, 14.455261245527447, 14.455255938230028, 14.455250632959618, 14.45524532971546, 14.455240028496776, 14.455234729302786, 14.455229432132708, 14.455224136985795, 14.455218843861244, 14.4552135527583, 14.455208263676191, 14.455202976614137, 14.455197691571366, 14.455192408547124, 14.45518712754062, 14.455181848551103, 14.45517657157778, 14.455171296619888, 14.455166023676673, 14.455160752747343, 14.455155483831152, 14.45515021692731, 14.455144952035063, 14.455139689153636, 14.455134428282259, 14.45512916942016, 14.455123912566581, 14.455118657720767, 14.455113404881923, 14.455108154049308, 14.455102905222132, 14.455097658399648, 14.455092413581081, 14.455087170765673, 14.455081929952646, 14.455076691141251, 14.455071454330703, 14.455066219520267, 14.455060986709155, 14.455055755896613, 14.455050527081871, 14.455045300264176, 14.45504007544276, 14.455034852616864, 14.45502963178571, 14.455024412948555, 14.455019196104637, 14.45501398125319, 14.455008768393443, 14.455003557524652, 14.454998348646043, 14.454993141756857, 14.454987936856337, 14.45498273394373, 14.454977533018285, 14.454972334079219, 14.454967137125783, 14.454961942157219, 14.454956749172782, 14.454951558171688, 14.454946369153198, 14.454941182116556, 14.454935997061, 14.454930813985754, 14.454925632890097, 14.454920453773259, 14.454915276634473, 14.454910101472999, 14.454904928288075, 14.454899757078934, 14.454894587844846, 14.454889420585044, 14.454884255298772, 14.454879091985276, 14.454873930643807, 14.454868771273603, 14.454863613873929, 14.454858458444017, 14.454853304983112, 14.454848153490467, 14.45484300396535, 14.454837856406975, 14.454832710814621, 14.454827567187513, 14.454822425524918, 14.454817285826078, 14.454812148090241, 14.454807012316655, 14.454801878504586, 14.454796746653267, 14.454791616761959, 14.454786488829908, 14.454781362856377, 14.454776238840607, 14.454771116781844, 14.45476599667936, 14.45476087853239, 14.454755762340206, 14.454750648102033, 14.454745535817151, 14.454740425484806, 14.454735317104248, 14.454730210674736, 14.454725106195514, 14.454720003665862, 14.45471490308501, 14.454709804452223, 14.454704707766766, 14.454699613027877, 14.45469452023483, 14.454689429386866, 14.454684340483254, 14.454679253523246, 14.454674168506104, 14.454669085431085, 14.454664004297445, 14.454658925104438, 14.454653847851324, 14.454648772537375, 14.45464369916184, 14.45463862772398, 14.45463355822305, 14.454628490658317, 14.454623425029045, 14.45461836133448, 14.4546132995739, 14.454608239746557, 14.454603181851715, 14.454598125888634, 14.454593071856573, 14.45458801975481, 14.454582969582594, 14.454577921339185, 14.454572875023855, 14.454567830635858, 14.454562788174476, 14.454557747638958, 14.454552709028567, 14.45454767234258, 14.454542637580257, 14.45453760474085, 14.454532573823645, 14.45452754482789, 14.454522517752878, 14.454517492597834, 14.454512469362065, 14.454507448044822, 14.45450242864537, 14.454497411162965, 14.454492395596894, 14.454487381946414, 14.454482370210808, 14.454477360389328, 14.454472352481261, 14.454467346485844, 14.454462342402394, 14.454457340230134, 14.454452339968366, 14.454447341616344, 14.454442345173334, 14.454437350638635, 14.454432358011475, 14.45442736729117, 14.454422378476972, 14.45441739156814, 14.454412406563959, 14.45440742346371, 14.454402442266648, 14.454397462972063, 14.454392485579222, 14.454387510087386, 14.454382536495856, 14.454377564803876, 14.454372595010746, 14.454367627115726, 14.45436266111809, 14.454357697017118, 14.454352734812087, 14.454347774502276, 14.454342816086955, 14.4543378595654, 14.454332904936887, 14.454327952200703, 14.454323001356112, 14.4543180524024, 14.454313105338844, 14.454308160164722, 14.454303216879303, 14.45429827548188, 14.45429333597172, 14.454288398348119, 14.454283462610341, 14.454278528757659, 14.454273596789376, 14.454268666704754, 14.454263738503089, 14.45425881218364, 14.454253887745711, 14.454248965188567, 14.454244044511494, 14.454239125713784, 14.454234208794698, 14.454229293753553, 14.454224380589586, 14.454219469302114, 14.454214559890408, 14.454209652353773, 14.454204746691442, 14.454199842902758, 14.45419494098697, 14.45419004094337, 14.454185142771246, 14.454180246469875, 14.454175352038558, 14.454170459476568, 14.45416556878319, 14.454160679957722, 14.454155792999432, 14.454150907907634, 14.454146024681595, 14.454141143320602, 14.45413626382396, 14.454131386190927, 14.45412651042081, 14.454121636512912, 14.454116764466495, 14.45411189428087, 14.454107025955306, 14.454102159489103, 14.454097294881556, 14.454092432131942, 14.454087571239564, 14.454082712203698, 14.454077855023653, 14.454072999698699, 14.454068146228156, 14.45406329461129, 14.454058444847412, 14.454053596935799, 14.454048750875746, 14.454043906666554, 14.454039064307505, 14.454034223797908, 14.454029385137039, 14.454024548324206, 14.4540197133587, 14.454014880239809, 14.45401004896682, 14.454005219539049, 14.454000391955782, 14.453995566216323, 14.453990742319952, 14.453985920265968, 14.45398110005368, 14.453976281682374, 14.453971465151353, 14.453966650459897, 14.453961837607322, 14.453957026592928, 14.453952217416001, 14.453947410075846, 14.45394260457175, 14.453937800903029, 14.453932999068973, 14.453928199068882, 14.45392340090205, 14.453918604567786, 14.453913810065382, 14.453909017394155, 14.453904226553384, 14.453899437542379, 14.45389465036044, 14.45388986500687, 14.453885081480987, 14.453880299782059, 14.453875519909412, 14.453870741862339, 14.453865965640146, 14.453861191242138, 14.453856418667614, 14.453851647915885, 14.453846878986248, 14.453842111878009, 14.453837346590475, 14.453832583122937, 14.453827821474727, 14.453823061645123, 14.453818303633438, 14.45381354743899, 14.453808793061075, 14.453804040499003, 14.453799289752057, 14.453794540819588, 14.453789793700864, 14.453785048395218, 14.453780304901946]\n"
          ],
          "name": "stdout"
        }
      ]
    },
    {
      "cell_type": "code",
      "metadata": {
        "id": "Ywh7ihTOTPF2",
        "colab_type": "code",
        "colab": {
          "base_uri": "https://localhost:8080/",
          "height": 287
        },
        "outputId": "6703162f-cc33-4345-c385-4bc8c5f47a58"
      },
      "source": [
        "yy=df['Hours']*t1+t0\n",
        "# print(yy)\n",
        "plt.scatter(df['Hours'],df['Scores'])\n",
        "plt.plot(df['Hours'],yy,'r--')"
      ],
      "execution_count": 16,
      "outputs": [
        {
          "output_type": "execute_result",
          "data": {
            "text/plain": [
              "[<matplotlib.lines.Line2D at 0x7f2ccdeaa910>]"
            ]
          },
          "metadata": {
            "tags": []
          },
          "execution_count": 16
        },
        {
          "output_type": "display_data",
          "data": {
            "image/png": "[encoded data removed]",
            "text/plain": [
              "<Figure size 432x288 with 1 Axes>"
            ]
          },
          "metadata": {
            "tags": []
          }
        }
      ]
    },
    {
      "cell_type": "markdown",
      "metadata": {
        "id": "hOa5rCWK1UA0",
        "colab_type": "text"
      },
      "source": [
        "**Logistic Regression**"
      ]
    },
    {
      "cell_type": "code",
      "metadata": {
        "id": "etNSmjRR1WEZ",
        "colab_type": "code",
        "colab": {}
      },
      "source": [
        "df = pd.read_csv('loan_data.csv') "
      ],
      "execution_count": 0,
      "outputs": []
    },
    {
      "cell_type": "code",
      "metadata": {
        "id": "5BMoO56W32vT",
        "colab_type": "code",
        "colab": {
          "base_uri": "https://localhost:8080/",
          "height": 35
        },
        "outputId": "52c6e292-a425-446f-858c-c92c3277cec9"
      },
      "source": [
        "df.shape"
      ],
      "execution_count": 18,
      "outputs": [
        {
          "output_type": "execute_result",
          "data": {
            "text/plain": [
              "(614, 13)"
            ]
          },
          "metadata": {
            "tags": []
          },
          "execution_count": 18
        }
      ]
    },
    {
      "cell_type": "code",
      "metadata": {
        "id": "a9Yr0YFx34Pv",
        "colab_type": "code",
        "colab": {
          "base_uri": "https://localhost:8080/",
          "height": 235
        },
        "outputId": "85764c55-1b5d-4fe2-fd8d-1f7d7b0b04cc"
      },
      "source": [
        "X=df.iloc[:,1:-1]\n",
        "X.head()"
      ],
      "execution_count": 84,
      "outputs": [
        {
          "output_type": "execute_result",
          "data": {
            "text/html": [
              "<div>\n",
              "<style scoped>\n",
              "    .dataframe tbody tr th:only-of-type {\n",
              "        vertical-align: middle;\n",
              "    }\n",
              "\n",
              "    .dataframe tbody tr th {\n",
              "        vertical-align: top;\n",
              "    }\n",
              "\n",
              "    .dataframe thead th {\n",
              "        text-align: right;\n",
              "    }\n",
              "</style>\n",
              "<table border=\"1\" class=\"dataframe\">\n",
              "  <thead>\n",
              "    <tr style=\"text-align: right;\">\n",
              "      <th></th>\n",
              "      <th>Gender</th>\n",
              "      <th>Married</th>\n",
              "      <th>Dependents</th>\n",
              "      <th>Education</th>\n",
              "      <th>Self_Employed</th>\n",
              "      <th>ApplicantIncome</th>\n",
              "      <th>CoapplicantIncome</th>\n",
              "      <th>LoanAmount</th>\n",
              "      <th>Loan_Amount_Term</th>\n",
              "      <th>Credit_History</th>\n",
              "      <th>Property_Area</th>\n",
              "    </tr>\n",
              "  </thead>\n",
              "  <tbody>\n",
              "    <tr>\n",
              "      <th>0</th>\n",
              "      <td>Male</td>\n",
              "      <td>No</td>\n",
              "      <td>0</td>\n",
              "      <td>Graduate</td>\n",
              "      <td>No</td>\n",
              "      <td>5849</td>\n",
              "      <td>0.0</td>\n",
              "      <td>0.0</td>\n",
              "      <td>360.0</td>\n",
              "      <td>1.0</td>\n",
              "      <td>Urban</td>\n",
              "    </tr>\n",
              "    <tr>\n",
              "      <th>1</th>\n",
              "      <td>Male</td>\n",
              "      <td>Yes</td>\n",
              "      <td>1</td>\n",
              "      <td>Graduate</td>\n",
              "      <td>No</td>\n",
              "      <td>4583</td>\n",
              "      <td>1508.0</td>\n",
              "      <td>128.0</td>\n",
              "      <td>360.0</td>\n",
              "      <td>1.0</td>\n",
              "      <td>Rural</td>\n",
              "    </tr>\n",
              "    <tr>\n",
              "      <th>2</th>\n",
              "      <td>Male</td>\n",
              "      <td>Yes</td>\n",
              "      <td>0</td>\n",
              "      <td>Graduate</td>\n",
              "      <td>Yes</td>\n",
              "      <td>3000</td>\n",
              "      <td>0.0</td>\n",
              "      <td>66.0</td>\n",
              "      <td>360.0</td>\n",
              "      <td>1.0</td>\n",
              "      <td>Urban</td>\n",
              "    </tr>\n",
              "    <tr>\n",
              "      <th>3</th>\n",
              "      <td>Male</td>\n",
              "      <td>Yes</td>\n",
              "      <td>0</td>\n",
              "      <td>Not Graduate</td>\n",
              "      <td>No</td>\n",
              "      <td>2583</td>\n",
              "      <td>2358.0</td>\n",
              "      <td>120.0</td>\n",
              "      <td>360.0</td>\n",
              "      <td>1.0</td>\n",
              "      <td>Urban</td>\n",
              "    </tr>\n",
              "    <tr>\n",
              "      <th>4</th>\n",
              "      <td>Male</td>\n",
              "      <td>No</td>\n",
              "      <td>0</td>\n",
              "      <td>Graduate</td>\n",
              "      <td>No</td>\n",
              "      <td>6000</td>\n",
              "      <td>0.0</td>\n",
              "      <td>141.0</td>\n",
              "      <td>360.0</td>\n",
              "      <td>1.0</td>\n",
              "      <td>Urban</td>\n",
              "    </tr>\n",
              "  </tbody>\n",
              "</table>\n",
              "</div>"
            ],
            "text/plain": [
              "  Gender Married Dependents  ... Loan_Amount_Term Credit_History  Property_Area\n",
              "0   Male      No          0  ...            360.0            1.0          Urban\n",
              "1   Male     Yes          1  ...            360.0            1.0          Rural\n",
              "2   Male     Yes          0  ...            360.0            1.0          Urban\n",
              "3   Male     Yes          0  ...            360.0            1.0          Urban\n",
              "4   Male      No          0  ...            360.0            1.0          Urban\n",
              "\n",
              "[5 rows x 11 columns]"
            ]
          },
          "metadata": {
            "tags": []
          },
          "execution_count": 84
        }
      ]
    },
    {
      "cell_type": "code",
      "metadata": {
        "id": "Fhq7S1Qz6wlJ",
        "colab_type": "code",
        "colab": {}
      },
      "source": [
        "le = preprocessing.LabelEncoder()\n",
        "le.fit(df.iloc[:,-1])\n",
        "y=le.transform(df.iloc[:,-1])\n"
      ],
      "execution_count": 0,
      "outputs": []
    },
    {
      "cell_type": "code",
      "metadata": {
        "id": "mxDHMKdJ_QOM",
        "colab_type": "code",
        "colab": {}
      },
      "source": [
        "#Convert all data to 0 and 1\n",
        "for i in range(len(X)):\n",
        "    if(X['Gender'].iloc[i]=='Male'):\n",
        "        X['Gender'].iloc[i]=0\n",
        "    else:\n",
        "        X['Gender'].iloc[i]=1\n",
        "for i in range(len(X)):\n",
        "    if(X['Married'].iloc[i]=='No'):\n",
        "        X['Married'].iloc[i]=0\n",
        "    else:\n",
        "        X['Married'].iloc[i]=1\n",
        "for i in range(len(X)):\n",
        "    if(X['Education'].iloc[i]=='Graduate'):\n",
        "        X['Education'].iloc[i]=0\n",
        "    else:\n",
        "        X['Education'].iloc[i]=1\n",
        "for i in range(len(X)):\n",
        "    if(X['Self_Employed'].iloc[i]=='No'):\n",
        "        X['Self_Employed'].iloc[i]=0\n",
        "    else:\n",
        "        X['Self_Employed'].iloc[i]=1\n",
        "        "
      ],
      "execution_count": 0,
      "outputs": []
    },
    {
      "cell_type": "code",
      "metadata": {
        "id": "OmDbQ4ajUudI",
        "colab_type": "code",
        "colab": {
          "base_uri": "https://localhost:8080/",
          "height": 1000
        },
        "outputId": "9450b501-e615-49eb-b463-c3ea9e4294cd"
      },
      "source": [
        "X=X.fillna(0)\n",
        "X=X.iloc[:,:-1]\n",
        "X.drop('Dependents', axis=1, inplace=True)\n",
        "X #removed Dependents"
      ],
      "execution_count": 88,
      "outputs": [
        {
          "output_type": "execute_result",
          "data": {
            "text/html": [
              "<div>\n",
              "<style scoped>\n",
              "    .dataframe tbody tr th:only-of-type {\n",
              "        vertical-align: middle;\n",
              "    }\n",
              "\n",
              "    .dataframe tbody tr th {\n",
              "        vertical-align: top;\n",
              "    }\n",
              "\n",
              "    .dataframe thead th {\n",
              "        text-align: right;\n",
              "    }\n",
              "</style>\n",
              "<table border=\"1\" class=\"dataframe\">\n",
              "  <thead>\n",
              "    <tr style=\"text-align: right;\">\n",
              "      <th></th>\n",
              "      <th>Gender</th>\n",
              "      <th>Married</th>\n",
              "      <th>Education</th>\n",
              "      <th>Self_Employed</th>\n",
              "      <th>ApplicantIncome</th>\n",
              "      <th>CoapplicantIncome</th>\n",
              "      <th>LoanAmount</th>\n",
              "      <th>Loan_Amount_Term</th>\n",
              "      <th>Credit_History</th>\n",
              "    </tr>\n",
              "  </thead>\n",
              "  <tbody>\n",
              "    <tr>\n",
              "      <th>0</th>\n",
              "      <td>0</td>\n",
              "      <td>0</td>\n",
              "      <td>0</td>\n",
              "      <td>0</td>\n",
              "      <td>5849</td>\n",
              "      <td>0.0</td>\n",
              "      <td>0.0</td>\n",
              "      <td>360.0</td>\n",
              "      <td>1.0</td>\n",
              "    </tr>\n",
              "    <tr>\n",
              "      <th>1</th>\n",
              "      <td>0</td>\n",
              "      <td>1</td>\n",
              "      <td>0</td>\n",
              "      <td>0</td>\n",
              "      <td>4583</td>\n",
              "      <td>1508.0</td>\n",
              "      <td>128.0</td>\n",
              "      <td>360.0</td>\n",
              "      <td>1.0</td>\n",
              "    </tr>\n",
              "    <tr>\n",
              "      <th>2</th>\n",
              "      <td>0</td>\n",
              "      <td>1</td>\n",
              "      <td>0</td>\n",
              "      <td>1</td>\n",
              "      <td>3000</td>\n",
              "      <td>0.0</td>\n",
              "      <td>66.0</td>\n",
              "      <td>360.0</td>\n",
              "      <td>1.0</td>\n",
              "    </tr>\n",
              "    <tr>\n",
              "      <th>3</th>\n",
              "      <td>0</td>\n",
              "      <td>1</td>\n",
              "      <td>1</td>\n",
              "      <td>0</td>\n",
              "      <td>2583</td>\n",
              "      <td>2358.0</td>\n",
              "      <td>120.0</td>\n",
              "      <td>360.0</td>\n",
              "      <td>1.0</td>\n",
              "    </tr>\n",
              "    <tr>\n",
              "      <th>4</th>\n",
              "      <td>0</td>\n",
              "      <td>0</td>\n",
              "      <td>0</td>\n",
              "      <td>0</td>\n",
              "      <td>6000</td>\n",
              "      <td>0.0</td>\n",
              "      <td>141.0</td>\n",
              "      <td>360.0</td>\n",
              "      <td>1.0</td>\n",
              "    </tr>\n",
              "    <tr>\n",
              "      <th>5</th>\n",
              "      <td>0</td>\n",
              "      <td>1</td>\n",
              "      <td>0</td>\n",
              "      <td>1</td>\n",
              "      <td>5417</td>\n",
              "      <td>4196.0</td>\n",
              "      <td>267.0</td>\n",
              "      <td>360.0</td>\n",
              "      <td>1.0</td>\n",
              "    </tr>\n",
              "    <tr>\n",
              "      <th>6</th>\n",
              "      <td>0</td>\n",
              "      <td>1</td>\n",
              "      <td>1</td>\n",
              "      <td>0</td>\n",
              "      <td>2333</td>\n",
              "      <td>1516.0</td>\n",
              "      <td>95.0</td>\n",
              "      <td>360.0</td>\n",
              "      <td>1.0</td>\n",
              "    </tr>\n",
              "    <tr>\n",
              "      <th>7</th>\n",
              "      <td>0</td>\n",
              "      <td>1</td>\n",
              "      <td>0</td>\n",
              "      <td>0</td>\n",
              "      <td>3036</td>\n",
              "      <td>2504.0</td>\n",
              "      <td>158.0</td>\n",
              "      <td>360.0</td>\n",
              "      <td>0.0</td>\n",
              "    </tr>\n",
              "    <tr>\n",
              "      <th>8</th>\n",
              "      <td>0</td>\n",
              "      <td>1</td>\n",
              "      <td>0</td>\n",
              "      <td>0</td>\n",
              "      <td>4006</td>\n",
              "      <td>1526.0</td>\n",
              "      <td>168.0</td>\n",
              "      <td>360.0</td>\n",
              "      <td>1.0</td>\n",
              "    </tr>\n",
              "    <tr>\n",
              "      <th>9</th>\n",
              "      <td>0</td>\n",
              "      <td>1</td>\n",
              "      <td>0</td>\n",
              "      <td>0</td>\n",
              "      <td>12841</td>\n",
              "      <td>10968.0</td>\n",
              "      <td>349.0</td>\n",
              "      <td>360.0</td>\n",
              "      <td>1.0</td>\n",
              "    </tr>\n",
              "    <tr>\n",
              "      <th>10</th>\n",
              "      <td>0</td>\n",
              "      <td>1</td>\n",
              "      <td>0</td>\n",
              "      <td>0</td>\n",
              "      <td>3200</td>\n",
              "      <td>700.0</td>\n",
              "      <td>70.0</td>\n",
              "      <td>360.0</td>\n",
              "      <td>1.0</td>\n",
              "    </tr>\n",
              "    <tr>\n",
              "      <th>11</th>\n",
              "      <td>0</td>\n",
              "      <td>1</td>\n",
              "      <td>0</td>\n",
              "      <td>1</td>\n",
              "      <td>2500</td>\n",
              "      <td>1840.0</td>\n",
              "      <td>109.0</td>\n",
              "      <td>360.0</td>\n",
              "      <td>1.0</td>\n",
              "    </tr>\n",
              "    <tr>\n",
              "      <th>12</th>\n",
              "      <td>0</td>\n",
              "      <td>1</td>\n",
              "      <td>0</td>\n",
              "      <td>0</td>\n",
              "      <td>3073</td>\n",
              "      <td>8106.0</td>\n",
              "      <td>200.0</td>\n",
              "      <td>360.0</td>\n",
              "      <td>1.0</td>\n",
              "    </tr>\n",
              "    <tr>\n",
              "      <th>13</th>\n",
              "      <td>0</td>\n",
              "      <td>0</td>\n",
              "      <td>0</td>\n",
              "      <td>0</td>\n",
              "      <td>1853</td>\n",
              "      <td>2840.0</td>\n",
              "      <td>114.0</td>\n",
              "      <td>360.0</td>\n",
              "      <td>1.0</td>\n",
              "    </tr>\n",
              "    <tr>\n",
              "      <th>14</th>\n",
              "      <td>0</td>\n",
              "      <td>1</td>\n",
              "      <td>0</td>\n",
              "      <td>0</td>\n",
              "      <td>1299</td>\n",
              "      <td>1086.0</td>\n",
              "      <td>17.0</td>\n",
              "      <td>120.0</td>\n",
              "      <td>1.0</td>\n",
              "    </tr>\n",
              "    <tr>\n",
              "      <th>15</th>\n",
              "      <td>0</td>\n",
              "      <td>0</td>\n",
              "      <td>0</td>\n",
              "      <td>0</td>\n",
              "      <td>4950</td>\n",
              "      <td>0.0</td>\n",
              "      <td>125.0</td>\n",
              "      <td>360.0</td>\n",
              "      <td>1.0</td>\n",
              "    </tr>\n",
              "    <tr>\n",
              "      <th>16</th>\n",
              "      <td>0</td>\n",
              "      <td>0</td>\n",
              "      <td>1</td>\n",
              "      <td>0</td>\n",
              "      <td>3596</td>\n",
              "      <td>0.0</td>\n",
              "      <td>100.0</td>\n",
              "      <td>240.0</td>\n",
              "      <td>0.0</td>\n",
              "    </tr>\n",
              "    <tr>\n",
              "      <th>17</th>\n",
              "      <td>1</td>\n",
              "      <td>0</td>\n",
              "      <td>0</td>\n",
              "      <td>0</td>\n",
              "      <td>3510</td>\n",
              "      <td>0.0</td>\n",
              "      <td>76.0</td>\n",
              "      <td>360.0</td>\n",
              "      <td>0.0</td>\n",
              "    </tr>\n",
              "    <tr>\n",
              "      <th>18</th>\n",
              "      <td>0</td>\n",
              "      <td>1</td>\n",
              "      <td>1</td>\n",
              "      <td>0</td>\n",
              "      <td>4887</td>\n",
              "      <td>0.0</td>\n",
              "      <td>133.0</td>\n",
              "      <td>360.0</td>\n",
              "      <td>1.0</td>\n",
              "    </tr>\n",
              "    <tr>\n",
              "      <th>19</th>\n",
              "      <td>0</td>\n",
              "      <td>1</td>\n",
              "      <td>0</td>\n",
              "      <td>1</td>\n",
              "      <td>2600</td>\n",
              "      <td>3500.0</td>\n",
              "      <td>115.0</td>\n",
              "      <td>0.0</td>\n",
              "      <td>1.0</td>\n",
              "    </tr>\n",
              "    <tr>\n",
              "      <th>20</th>\n",
              "      <td>0</td>\n",
              "      <td>1</td>\n",
              "      <td>1</td>\n",
              "      <td>0</td>\n",
              "      <td>7660</td>\n",
              "      <td>0.0</td>\n",
              "      <td>104.0</td>\n",
              "      <td>360.0</td>\n",
              "      <td>0.0</td>\n",
              "    </tr>\n",
              "    <tr>\n",
              "      <th>21</th>\n",
              "      <td>0</td>\n",
              "      <td>1</td>\n",
              "      <td>0</td>\n",
              "      <td>0</td>\n",
              "      <td>5955</td>\n",
              "      <td>5625.0</td>\n",
              "      <td>315.0</td>\n",
              "      <td>360.0</td>\n",
              "      <td>1.0</td>\n",
              "    </tr>\n",
              "    <tr>\n",
              "      <th>22</th>\n",
              "      <td>0</td>\n",
              "      <td>1</td>\n",
              "      <td>1</td>\n",
              "      <td>0</td>\n",
              "      <td>2600</td>\n",
              "      <td>1911.0</td>\n",
              "      <td>116.0</td>\n",
              "      <td>360.0</td>\n",
              "      <td>0.0</td>\n",
              "    </tr>\n",
              "    <tr>\n",
              "      <th>23</th>\n",
              "      <td>1</td>\n",
              "      <td>1</td>\n",
              "      <td>1</td>\n",
              "      <td>0</td>\n",
              "      <td>3365</td>\n",
              "      <td>1917.0</td>\n",
              "      <td>112.0</td>\n",
              "      <td>360.0</td>\n",
              "      <td>0.0</td>\n",
              "    </tr>\n",
              "    <tr>\n",
              "      <th>24</th>\n",
              "      <td>0</td>\n",
              "      <td>1</td>\n",
              "      <td>0</td>\n",
              "      <td>1</td>\n",
              "      <td>3717</td>\n",
              "      <td>2925.0</td>\n",
              "      <td>151.0</td>\n",
              "      <td>360.0</td>\n",
              "      <td>0.0</td>\n",
              "    </tr>\n",
              "    <tr>\n",
              "      <th>25</th>\n",
              "      <td>0</td>\n",
              "      <td>1</td>\n",
              "      <td>0</td>\n",
              "      <td>1</td>\n",
              "      <td>9560</td>\n",
              "      <td>0.0</td>\n",
              "      <td>191.0</td>\n",
              "      <td>360.0</td>\n",
              "      <td>1.0</td>\n",
              "    </tr>\n",
              "    <tr>\n",
              "      <th>26</th>\n",
              "      <td>0</td>\n",
              "      <td>1</td>\n",
              "      <td>0</td>\n",
              "      <td>0</td>\n",
              "      <td>2799</td>\n",
              "      <td>2253.0</td>\n",
              "      <td>122.0</td>\n",
              "      <td>360.0</td>\n",
              "      <td>1.0</td>\n",
              "    </tr>\n",
              "    <tr>\n",
              "      <th>27</th>\n",
              "      <td>0</td>\n",
              "      <td>1</td>\n",
              "      <td>1</td>\n",
              "      <td>0</td>\n",
              "      <td>4226</td>\n",
              "      <td>1040.0</td>\n",
              "      <td>110.0</td>\n",
              "      <td>360.0</td>\n",
              "      <td>1.0</td>\n",
              "    </tr>\n",
              "    <tr>\n",
              "      <th>28</th>\n",
              "      <td>0</td>\n",
              "      <td>0</td>\n",
              "      <td>1</td>\n",
              "      <td>0</td>\n",
              "      <td>1442</td>\n",
              "      <td>0.0</td>\n",
              "      <td>35.0</td>\n",
              "      <td>360.0</td>\n",
              "      <td>1.0</td>\n",
              "    </tr>\n",
              "    <tr>\n",
              "      <th>29</th>\n",
              "      <td>1</td>\n",
              "      <td>0</td>\n",
              "      <td>0</td>\n",
              "      <td>1</td>\n",
              "      <td>3750</td>\n",
              "      <td>2083.0</td>\n",
              "      <td>120.0</td>\n",
              "      <td>360.0</td>\n",
              "      <td>1.0</td>\n",
              "    </tr>\n",
              "    <tr>\n",
              "      <th>...</th>\n",
              "      <td>...</td>\n",
              "      <td>...</td>\n",
              "      <td>...</td>\n",
              "      <td>...</td>\n",
              "      <td>...</td>\n",
              "      <td>...</td>\n",
              "      <td>...</td>\n",
              "      <td>...</td>\n",
              "      <td>...</td>\n",
              "    </tr>\n",
              "    <tr>\n",
              "      <th>584</th>\n",
              "      <td>0</td>\n",
              "      <td>1</td>\n",
              "      <td>0</td>\n",
              "      <td>0</td>\n",
              "      <td>2787</td>\n",
              "      <td>1917.0</td>\n",
              "      <td>146.0</td>\n",
              "      <td>360.0</td>\n",
              "      <td>0.0</td>\n",
              "    </tr>\n",
              "    <tr>\n",
              "      <th>585</th>\n",
              "      <td>0</td>\n",
              "      <td>1</td>\n",
              "      <td>0</td>\n",
              "      <td>0</td>\n",
              "      <td>4283</td>\n",
              "      <td>3000.0</td>\n",
              "      <td>172.0</td>\n",
              "      <td>84.0</td>\n",
              "      <td>1.0</td>\n",
              "    </tr>\n",
              "    <tr>\n",
              "      <th>586</th>\n",
              "      <td>0</td>\n",
              "      <td>1</td>\n",
              "      <td>0</td>\n",
              "      <td>0</td>\n",
              "      <td>2297</td>\n",
              "      <td>1522.0</td>\n",
              "      <td>104.0</td>\n",
              "      <td>360.0</td>\n",
              "      <td>1.0</td>\n",
              "    </tr>\n",
              "    <tr>\n",
              "      <th>587</th>\n",
              "      <td>1</td>\n",
              "      <td>0</td>\n",
              "      <td>1</td>\n",
              "      <td>0</td>\n",
              "      <td>2165</td>\n",
              "      <td>0.0</td>\n",
              "      <td>70.0</td>\n",
              "      <td>360.0</td>\n",
              "      <td>1.0</td>\n",
              "    </tr>\n",
              "    <tr>\n",
              "      <th>588</th>\n",
              "      <td>1</td>\n",
              "      <td>0</td>\n",
              "      <td>0</td>\n",
              "      <td>0</td>\n",
              "      <td>4750</td>\n",
              "      <td>0.0</td>\n",
              "      <td>94.0</td>\n",
              "      <td>360.0</td>\n",
              "      <td>1.0</td>\n",
              "    </tr>\n",
              "    <tr>\n",
              "      <th>589</th>\n",
              "      <td>0</td>\n",
              "      <td>1</td>\n",
              "      <td>0</td>\n",
              "      <td>1</td>\n",
              "      <td>2726</td>\n",
              "      <td>0.0</td>\n",
              "      <td>106.0</td>\n",
              "      <td>360.0</td>\n",
              "      <td>0.0</td>\n",
              "    </tr>\n",
              "    <tr>\n",
              "      <th>590</th>\n",
              "      <td>0</td>\n",
              "      <td>1</td>\n",
              "      <td>0</td>\n",
              "      <td>0</td>\n",
              "      <td>3000</td>\n",
              "      <td>3416.0</td>\n",
              "      <td>56.0</td>\n",
              "      <td>180.0</td>\n",
              "      <td>1.0</td>\n",
              "    </tr>\n",
              "    <tr>\n",
              "      <th>591</th>\n",
              "      <td>0</td>\n",
              "      <td>1</td>\n",
              "      <td>0</td>\n",
              "      <td>1</td>\n",
              "      <td>6000</td>\n",
              "      <td>0.0</td>\n",
              "      <td>205.0</td>\n",
              "      <td>240.0</td>\n",
              "      <td>1.0</td>\n",
              "    </tr>\n",
              "    <tr>\n",
              "      <th>592</th>\n",
              "      <td>1</td>\n",
              "      <td>0</td>\n",
              "      <td>0</td>\n",
              "      <td>1</td>\n",
              "      <td>9357</td>\n",
              "      <td>0.0</td>\n",
              "      <td>292.0</td>\n",
              "      <td>360.0</td>\n",
              "      <td>1.0</td>\n",
              "    </tr>\n",
              "    <tr>\n",
              "      <th>593</th>\n",
              "      <td>0</td>\n",
              "      <td>1</td>\n",
              "      <td>0</td>\n",
              "      <td>0</td>\n",
              "      <td>3859</td>\n",
              "      <td>3300.0</td>\n",
              "      <td>142.0</td>\n",
              "      <td>180.0</td>\n",
              "      <td>1.0</td>\n",
              "    </tr>\n",
              "    <tr>\n",
              "      <th>594</th>\n",
              "      <td>0</td>\n",
              "      <td>1</td>\n",
              "      <td>0</td>\n",
              "      <td>1</td>\n",
              "      <td>16120</td>\n",
              "      <td>0.0</td>\n",
              "      <td>260.0</td>\n",
              "      <td>360.0</td>\n",
              "      <td>1.0</td>\n",
              "    </tr>\n",
              "    <tr>\n",
              "      <th>595</th>\n",
              "      <td>0</td>\n",
              "      <td>0</td>\n",
              "      <td>1</td>\n",
              "      <td>0</td>\n",
              "      <td>3833</td>\n",
              "      <td>0.0</td>\n",
              "      <td>110.0</td>\n",
              "      <td>360.0</td>\n",
              "      <td>1.0</td>\n",
              "    </tr>\n",
              "    <tr>\n",
              "      <th>596</th>\n",
              "      <td>0</td>\n",
              "      <td>1</td>\n",
              "      <td>1</td>\n",
              "      <td>1</td>\n",
              "      <td>6383</td>\n",
              "      <td>1000.0</td>\n",
              "      <td>187.0</td>\n",
              "      <td>360.0</td>\n",
              "      <td>1.0</td>\n",
              "    </tr>\n",
              "    <tr>\n",
              "      <th>597</th>\n",
              "      <td>0</td>\n",
              "      <td>0</td>\n",
              "      <td>0</td>\n",
              "      <td>0</td>\n",
              "      <td>2987</td>\n",
              "      <td>0.0</td>\n",
              "      <td>88.0</td>\n",
              "      <td>360.0</td>\n",
              "      <td>0.0</td>\n",
              "    </tr>\n",
              "    <tr>\n",
              "      <th>598</th>\n",
              "      <td>0</td>\n",
              "      <td>1</td>\n",
              "      <td>0</td>\n",
              "      <td>1</td>\n",
              "      <td>9963</td>\n",
              "      <td>0.0</td>\n",
              "      <td>180.0</td>\n",
              "      <td>360.0</td>\n",
              "      <td>1.0</td>\n",
              "    </tr>\n",
              "    <tr>\n",
              "      <th>599</th>\n",
              "      <td>0</td>\n",
              "      <td>1</td>\n",
              "      <td>0</td>\n",
              "      <td>0</td>\n",
              "      <td>5780</td>\n",
              "      <td>0.0</td>\n",
              "      <td>192.0</td>\n",
              "      <td>360.0</td>\n",
              "      <td>1.0</td>\n",
              "    </tr>\n",
              "    <tr>\n",
              "      <th>600</th>\n",
              "      <td>1</td>\n",
              "      <td>0</td>\n",
              "      <td>0</td>\n",
              "      <td>1</td>\n",
              "      <td>416</td>\n",
              "      <td>41667.0</td>\n",
              "      <td>350.0</td>\n",
              "      <td>180.0</td>\n",
              "      <td>0.0</td>\n",
              "    </tr>\n",
              "    <tr>\n",
              "      <th>601</th>\n",
              "      <td>0</td>\n",
              "      <td>1</td>\n",
              "      <td>1</td>\n",
              "      <td>1</td>\n",
              "      <td>2894</td>\n",
              "      <td>2792.0</td>\n",
              "      <td>155.0</td>\n",
              "      <td>360.0</td>\n",
              "      <td>1.0</td>\n",
              "    </tr>\n",
              "    <tr>\n",
              "      <th>602</th>\n",
              "      <td>0</td>\n",
              "      <td>1</td>\n",
              "      <td>0</td>\n",
              "      <td>0</td>\n",
              "      <td>5703</td>\n",
              "      <td>0.0</td>\n",
              "      <td>128.0</td>\n",
              "      <td>360.0</td>\n",
              "      <td>1.0</td>\n",
              "    </tr>\n",
              "    <tr>\n",
              "      <th>603</th>\n",
              "      <td>0</td>\n",
              "      <td>0</td>\n",
              "      <td>0</td>\n",
              "      <td>0</td>\n",
              "      <td>3676</td>\n",
              "      <td>4301.0</td>\n",
              "      <td>172.0</td>\n",
              "      <td>360.0</td>\n",
              "      <td>1.0</td>\n",
              "    </tr>\n",
              "    <tr>\n",
              "      <th>604</th>\n",
              "      <td>1</td>\n",
              "      <td>1</td>\n",
              "      <td>0</td>\n",
              "      <td>0</td>\n",
              "      <td>12000</td>\n",
              "      <td>0.0</td>\n",
              "      <td>496.0</td>\n",
              "      <td>360.0</td>\n",
              "      <td>1.0</td>\n",
              "    </tr>\n",
              "    <tr>\n",
              "      <th>605</th>\n",
              "      <td>0</td>\n",
              "      <td>1</td>\n",
              "      <td>1</td>\n",
              "      <td>0</td>\n",
              "      <td>2400</td>\n",
              "      <td>3800.0</td>\n",
              "      <td>0.0</td>\n",
              "      <td>180.0</td>\n",
              "      <td>1.0</td>\n",
              "    </tr>\n",
              "    <tr>\n",
              "      <th>606</th>\n",
              "      <td>0</td>\n",
              "      <td>1</td>\n",
              "      <td>0</td>\n",
              "      <td>0</td>\n",
              "      <td>3400</td>\n",
              "      <td>2500.0</td>\n",
              "      <td>173.0</td>\n",
              "      <td>360.0</td>\n",
              "      <td>1.0</td>\n",
              "    </tr>\n",
              "    <tr>\n",
              "      <th>607</th>\n",
              "      <td>0</td>\n",
              "      <td>1</td>\n",
              "      <td>1</td>\n",
              "      <td>0</td>\n",
              "      <td>3987</td>\n",
              "      <td>1411.0</td>\n",
              "      <td>157.0</td>\n",
              "      <td>360.0</td>\n",
              "      <td>1.0</td>\n",
              "    </tr>\n",
              "    <tr>\n",
              "      <th>608</th>\n",
              "      <td>0</td>\n",
              "      <td>1</td>\n",
              "      <td>0</td>\n",
              "      <td>0</td>\n",
              "      <td>3232</td>\n",
              "      <td>1950.0</td>\n",
              "      <td>108.0</td>\n",
              "      <td>360.0</td>\n",
              "      <td>1.0</td>\n",
              "    </tr>\n",
              "    <tr>\n",
              "      <th>609</th>\n",
              "      <td>1</td>\n",
              "      <td>0</td>\n",
              "      <td>0</td>\n",
              "      <td>0</td>\n",
              "      <td>2900</td>\n",
              "      <td>0.0</td>\n",
              "      <td>71.0</td>\n",
              "      <td>360.0</td>\n",
              "      <td>1.0</td>\n",
              "    </tr>\n",
              "    <tr>\n",
              "      <th>610</th>\n",
              "      <td>0</td>\n",
              "      <td>1</td>\n",
              "      <td>0</td>\n",
              "      <td>0</td>\n",
              "      <td>4106</td>\n",
              "      <td>0.0</td>\n",
              "      <td>40.0</td>\n",
              "      <td>180.0</td>\n",
              "      <td>1.0</td>\n",
              "    </tr>\n",
              "    <tr>\n",
              "      <th>611</th>\n",
              "      <td>0</td>\n",
              "      <td>1</td>\n",
              "      <td>0</td>\n",
              "      <td>0</td>\n",
              "      <td>8072</td>\n",
              "      <td>240.0</td>\n",
              "      <td>253.0</td>\n",
              "      <td>360.0</td>\n",
              "      <td>1.0</td>\n",
              "    </tr>\n",
              "    <tr>\n",
              "      <th>612</th>\n",
              "      <td>0</td>\n",
              "      <td>1</td>\n",
              "      <td>0</td>\n",
              "      <td>0</td>\n",
              "      <td>7583</td>\n",
              "      <td>0.0</td>\n",
              "      <td>187.0</td>\n",
              "      <td>360.0</td>\n",
              "      <td>1.0</td>\n",
              "    </tr>\n",
              "    <tr>\n",
              "      <th>613</th>\n",
              "      <td>1</td>\n",
              "      <td>0</td>\n",
              "      <td>0</td>\n",
              "      <td>1</td>\n",
              "      <td>4583</td>\n",
              "      <td>0.0</td>\n",
              "      <td>133.0</td>\n",
              "      <td>360.0</td>\n",
              "      <td>0.0</td>\n",
              "    </tr>\n",
              "  </tbody>\n",
              "</table>\n",
              "<p>614 rows × 9 columns</p>\n",
              "</div>"
            ],
            "text/plain": [
              "     Gender  Married  Education  ...  LoanAmount  Loan_Amount_Term  Credit_History\n",
              "0         0        0          0  ...         0.0             360.0             1.0\n",
              "1         0        1          0  ...       128.0             360.0             1.0\n",
              "2         0        1          0  ...        66.0             360.0             1.0\n",
              "3         0        1          1  ...       120.0             360.0             1.0\n",
              "4         0        0          0  ...       141.0             360.0             1.0\n",
              "5         0        1          0  ...       267.0             360.0             1.0\n",
              "6         0        1          1  ...        95.0             360.0             1.0\n",
              "7         0        1          0  ...       158.0             360.0             0.0\n",
              "8         0        1          0  ...       168.0             360.0             1.0\n",
              "9         0        1          0  ...       349.0             360.0             1.0\n",
              "10        0        1          0  ...        70.0             360.0             1.0\n",
              "11        0        1          0  ...       109.0             360.0             1.0\n",
              "12        0        1          0  ...       200.0             360.0             1.0\n",
              "13        0        0          0  ...       114.0             360.0             1.0\n",
              "14        0        1          0  ...        17.0             120.0             1.0\n",
              "15        0        0          0  ...       125.0             360.0             1.0\n",
              "16        0        0          1  ...       100.0             240.0             0.0\n",
              "17        1        0          0  ...        76.0             360.0             0.0\n",
              "18        0        1          1  ...       133.0             360.0             1.0\n",
              "19        0        1          0  ...       115.0               0.0             1.0\n",
              "20        0        1          1  ...       104.0             360.0             0.0\n",
              "21        0        1          0  ...       315.0             360.0             1.0\n",
              "22        0        1          1  ...       116.0             360.0             0.0\n",
              "23        1        1          1  ...       112.0             360.0             0.0\n",
              "24        0        1          0  ...       151.0             360.0             0.0\n",
              "25        0        1          0  ...       191.0             360.0             1.0\n",
              "26        0        1          0  ...       122.0             360.0             1.0\n",
              "27        0        1          1  ...       110.0             360.0             1.0\n",
              "28        0        0          1  ...        35.0             360.0             1.0\n",
              "29        1        0          0  ...       120.0             360.0             1.0\n",
              "..      ...      ...        ...  ...         ...               ...             ...\n",
              "584       0        1          0  ...       146.0             360.0             0.0\n",
              "585       0        1          0  ...       172.0              84.0             1.0\n",
              "586       0        1          0  ...       104.0             360.0             1.0\n",
              "587       1        0          1  ...        70.0             360.0             1.0\n",
              "588       1        0          0  ...        94.0             360.0             1.0\n",
              "589       0        1          0  ...       106.0             360.0             0.0\n",
              "590       0        1          0  ...        56.0             180.0             1.0\n",
              "591       0        1          0  ...       205.0             240.0             1.0\n",
              "592       1        0          0  ...       292.0             360.0             1.0\n",
              "593       0        1          0  ...       142.0             180.0             1.0\n",
              "594       0        1          0  ...       260.0             360.0             1.0\n",
              "595       0        0          1  ...       110.0             360.0             1.0\n",
              "596       0        1          1  ...       187.0             360.0             1.0\n",
              "597       0        0          0  ...        88.0             360.0             0.0\n",
              "598       0        1          0  ...       180.0             360.0             1.0\n",
              "599       0        1          0  ...       192.0             360.0             1.0\n",
              "600       1        0          0  ...       350.0             180.0             0.0\n",
              "601       0        1          1  ...       155.0             360.0             1.0\n",
              "602       0        1          0  ...       128.0             360.0             1.0\n",
              "603       0        0          0  ...       172.0             360.0             1.0\n",
              "604       1        1          0  ...       496.0             360.0             1.0\n",
              "605       0        1          1  ...         0.0             180.0             1.0\n",
              "606       0        1          0  ...       173.0             360.0             1.0\n",
              "607       0        1          1  ...       157.0             360.0             1.0\n",
              "608       0        1          0  ...       108.0             360.0             1.0\n",
              "609       1        0          0  ...        71.0             360.0             1.0\n",
              "610       0        1          0  ...        40.0             180.0             1.0\n",
              "611       0        1          0  ...       253.0             360.0             1.0\n",
              "612       0        1          0  ...       187.0             360.0             1.0\n",
              "613       1        0          0  ...       133.0             360.0             0.0\n",
              "\n",
              "[614 rows x 9 columns]"
            ]
          },
          "metadata": {
            "tags": []
          },
          "execution_count": 88
        }
      ]
    },
    {
      "cell_type": "code",
      "metadata": {
        "id": "hMBX2Mlo1yVD",
        "colab_type": "code",
        "colab": {}
      },
      "source": [
        "X.dropna(inplace=True)\n",
        "X.fillna(0,inplace=True)"
      ],
      "execution_count": 0,
      "outputs": []
    },
    {
      "cell_type": "code",
      "metadata": {
        "id": "VolD_AZ_XSxM",
        "colab_type": "code",
        "colab": {}
      },
      "source": [
        "def sigmoid(x):\n",
        "    # Activation function used to map any real value between 0 and 1\n",
        "    return 1 / (1 + np.exp(-x))\n",
        "\n",
        "def net_input(theta, x):\n",
        "    # Computes the weighted sum of inputs\n",
        "    return np.dot(x, theta)\n",
        "\n",
        "def probability(theta, x):\n",
        "    # Returns the probability after passing through sigmoid\n",
        "    return sigmoid(net_input(theta, x))"
      ],
      "execution_count": 0,
      "outputs": []
    },
    {
      "cell_type": "code",
      "metadata": {
        "id": "YWom5SASVHXk",
        "colab_type": "code",
        "colab": {}
      },
      "source": [
        "def cost(X,y,theta):\n",
        "    theta_t=np.transpose(theta)\n",
        "    h=probability(theta,X)\n",
        "    m = X.shape[0]\n",
        "    total_cost = -(1 / m) * np.sum(y * np.log(h) + (1 - y) * np.log(1 - h))\n",
        "    return total_cost"
      ],
      "execution_count": 0,
      "outputs": []
    },
    {
      "cell_type": "code",
      "metadata": {
        "id": "uaSdu1m9YZzS",
        "colab_type": "code",
        "colab": {
          "base_uri": "https://localhost:8080/",
          "height": 54
        },
        "outputId": "6a208065-997d-44b2-80f6-8c6d0d2096f9"
      },
      "source": [
        "def gradient(max_iter,X,y,theta,alpha):\n",
        "    m = X.shape[0]\n",
        "    for i in range(max_iter):\n",
        "        h=probability(theta,X)\n",
        "        theta = theta - alpha*(X.T.dot(h-y).mean())\n",
        "    return theta\n",
        "\n",
        "theta_final=gradient(1500,X,y,np.random.rand(9),0.001)\n",
        "print(theta_final)"
      ],
      "execution_count": 95,
      "outputs": [
        {
          "output_type": "stream",
          "text": [
            "/usr/local/lib/python2.7/dist-packages/ipykernel_launcher.py:3: RuntimeWarning: overflow encountered in exp\n",
            "  This is separate from the ipykernel package so we can avoid doing imports until\n"
          ],
          "name": "stderr"
        }
      ]
    },
    {
      "cell_type": "code",
      "metadata": {
        "colab_type": "code",
        "outputId": "998cb63d-8ef8-4f4a-8b7b-d17786e9a60a",
        "id": "qRksiL0bxw71",
        "colab": {
          "base_uri": "https://localhost:8080/",
          "height": 305
        }
      },
      "source": [
        "df.fillna(0,inplace=True)\n",
        "x1=df['Loan_Status']\n",
        "x2=df['ApplicantIncome']\n",
        "dict1={}\n",
        "x1_0=[]\n",
        "y1_0=[]\n",
        "x1_1=[]\n",
        "y1_1=[]\n",
        "\n",
        "for i in range(len(x1)):\n",
        "    if(x1[i]=='Y'):\n",
        "        x1_1.append(x1[i])\n",
        "        y1_1.append(x2[i])\n",
        "    else:\n",
        "        x1_0.append(x1[i])\n",
        "        y1_0.append(x2[i])\n",
        "print(len(x1_1),len(y1_1))\n",
        "plt.scatter(y1_1,x1_1, marker='+')\n",
        "plt.scatter(y1_0,x1_0, marker='o')\n",
        "X.sort_values(by=['CoapplicantIncome'],inplace=True)\n",
        "yyy=net_input(theta_final,X)\n",
        "\n",
        "plt.plot(X['CoapplicantIncome'],yyy,'r--')"
      ],
      "execution_count": 0,
      "outputs": [
        {
          "output_type": "stream",
          "text": [
            "(422, 422)\n"
          ],
          "name": "stdout"
        },
        {
          "output_type": "execute_result",
          "data": {
            "text/plain": [
              "[<matplotlib.lines.Line2D at 0x7f2ccd7e7990>]"
            ]
          },
          "metadata": {
            "tags": []
          },
          "execution_count": 100
        },
        {
          "output_type": "display_data",
          "data": {
            "image/png": "[encoded data removed]",
            "text/plain": [
              "<Figure size 432x288 with 1 Axes>"
            ]
          },
          "metadata": {
            "tags": []
          }
        }
      ]
    },
    {
      "cell_type": "code",
      "metadata": {
        "colab_type": "code",
        "outputId": "dcda604e-5dd5-4bc2-d212-99d508011d51",
        "id": "gmoCoeGxxuU-",
        "colab": {
          "base_uri": "https://localhost:8080/",
          "height": 305
        }
      },
      "source": [
        "x1=df['Loan_Status']\n",
        "x2=df['CoapplicantIncome']\n",
        "dict1={}\n",
        "x1_0=[]\n",
        "y1_0=[]\n",
        "x1_1=[]\n",
        "y1_1=[]\n",
        "\n",
        "for i in range(len(x1)):\n",
        "    if(x1[i]=='Y'):\n",
        "        x1_1.append(x1[i])\n",
        "        y1_1.append(x2[i])\n",
        "    else:\n",
        "        x1_0.append(x1[i])\n",
        "        y1_0.append(x2[i])\n",
        "print(len(x1_1),len(y1_1))\n",
        "plt.scatter(y1_1,x1_1, marker='+')\n",
        "plt.scatter(y1_0,x1_0, marker='o')\n",
        "X.sort_values(by=['CoapplicantIncome'],inplace)\n",
        "yyy=net_input(theta_final,X)\n",
        "\n",
        "plt.plot(X['CoapplicantIncome'],yyy,'r--')"
      ],
      "execution_count": 0,
      "outputs": [
        {
          "output_type": "stream",
          "text": [
            "(422, 422)\n"
          ],
          "name": "stdout"
        },
        {
          "output_type": "execute_result",
          "data": {
            "text/plain": [
              "[<matplotlib.lines.Line2D at 0x7f2cdd197f50>]"
            ]
          },
          "metadata": {
            "tags": []
          },
          "execution_count": 99
        },
        {
          "output_type": "display_data",
          "data": {
            "image/png": "[encoded data removed]",
            "text/plain": [
              "<Figure size 432x288 with 1 Axes>"
            ]
          },
          "metadata": {
            "tags": []
          }
        }
      ]
    },
    {
      "cell_type": "code",
      "metadata": {
        "id": "18VKSnb6IFx9",
        "colab_type": "code",
        "colab": {
          "base_uri": "https://localhost:8080/",
          "height": 217
        },
        "outputId": "6c212afe-5856-48ca-a090-694ad078435e"
      },
      "source": [
        "#Check acc\n",
        "y_pred=[]\n",
        "for i in range(len(X)):\n",
        "    if(net_input(theta_final,X.iloc[i,:])>0.5):\n",
        "        y_pred.append(1)\n",
        "    else:\n",
        "        y_pred.append(0)\n",
        "print(confusion_matrix(y, y_pred))  \n",
        "print(classification_report(y, y_pred))          "
      ],
      "execution_count": 104,
      "outputs": [
        {
          "output_type": "stream",
          "text": [
            "[[  0 192]\n",
            " [  0 422]]\n",
            "              precision    recall  f1-score   support\n",
            "\n",
            "           0       0.00      0.00      0.00       192\n",
            "           1       0.69      1.00      0.81       422\n",
            "\n",
            "   micro avg       0.69      0.69      0.69       614\n",
            "   macro avg       0.34      0.50      0.41       614\n",
            "weighted avg       0.47      0.69      0.56       614\n",
            "\n"
          ],
          "name": "stdout"
        }
      ]
    }
  ]
}